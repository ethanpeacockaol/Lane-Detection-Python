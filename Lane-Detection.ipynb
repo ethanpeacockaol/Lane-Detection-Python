{
 "cells": [
  {
   "cell_type": "markdown",
   "id": "2f7b5042-f078-4fa6-b210-4ac40025e730",
   "metadata": {},
   "source": [
    "# Self Driving Car Eyes (.)(.)\n",
    "\n",
    "### By Ethan Peacock\n",
    "---\n",
    "\n",
    "### Overview\n",
    "\n",
    "The goal of this project is to write a software pipeline to indentify the lane\n",
    "boundaries in a video with a front-facing camera on a car.  The camera<br>\n",
    "calibration images, test road images, and project videos are available<br>\n",
    "in this project repository:  https://github.com/udacity/CarND-Advanced-Lane-Lines\n",
    "\n",
    "<br>\n",
    "Below is a summary of the techniques used in this project.\n",
    "\n",
    "1. Camera calibration\n",
    "2. Distortion correction\n",
    "3. Color/gradient threshold\n",
    "4. Perspective transform\n",
    "5. Detect lane lines\n",
    "6. Determine the lane curvature\n",
    "\n",
    "---"
   ]
  },
  {
   "cell_type": "code",
   "execution_count": null,
   "id": "25a4e150-c831-422d-9e5d-d7cee96518df",
   "metadata": {},
   "outputs": [],
   "source": []
  }
 ],
 "metadata": {
  "kernelspec": {
   "display_name": "Python 3 (ipykernel)",
   "language": "python",
   "name": "python3"
  },
  "language_info": {
   "codemirror_mode": {
    "name": "ipython",
    "version": 3
   },
   "file_extension": ".py",
   "mimetype": "text/x-python",
   "name": "python",
   "nbconvert_exporter": "python",
   "pygments_lexer": "ipython3",
   "version": "3.12.11"
  }
 },
 "nbformat": 4,
 "nbformat_minor": 5
}
